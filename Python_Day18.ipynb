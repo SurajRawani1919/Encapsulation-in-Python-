{
 "cells": [
  {
   "cell_type": "code",
   "execution_count": 1,
   "id": "d61a5a24-4a1f-448c-afbe-60e94a9510ae",
   "metadata": {},
   "outputs": [
    {
     "name": "stdout",
     "output_type": "stream",
     "text": [
      "abc\n",
      "2\n"
     ]
    }
   ],
   "source": [
    "#Encapsulation\n",
    "#Class methods or attributes will be limited to class \n",
    "#private attributes and method \n",
    "\n",
    "class Person:\n",
    "    def __init__ (self,name,age):\n",
    "        self.__name=name\n",
    "        self.__age=age\n",
    "    #getter\n",
    "    def get_name(self):\n",
    "        return self.__name\n",
    "\n",
    "    #setter\n",
    "\n",
    "    def set_name(self,name):\n",
    "        self.__name=name\n",
    "\n",
    "    #getter\n",
    "    def get_age(self):\n",
    "        return self.__age\n",
    "\n",
    "    #setter\n",
    "    def set_age(self,age):\n",
    "        self.__age=age\n",
    "\n",
    "obj=Person(\"abc\",2)\n",
    "print(obj.get_name())\n",
    "print(obj.get_age())"
   ]
  },
  {
   "cell_type": "code",
   "execution_count": 14,
   "id": "e79d518f-5dae-46bc-8734-99da5fb1789b",
   "metadata": {},
   "outputs": [
    {
     "name": "stdout",
     "output_type": "stream",
     "text": [
      "None\n",
      "None\n",
      "Suraj\n",
      "20\n"
     ]
    }
   ],
   "source": [
    "print(obj.set_name(\"Suraj\"))\n",
    "print(obj.set_age(20))\n",
    "print(obj.get_name())\n",
    "print(obj.get_age())"
   ]
  },
  {
   "cell_type": "code",
   "execution_count": 17,
   "id": "081ec5e5-f97c-42f2-9cf9-d2ff33a4c926",
   "metadata": {},
   "outputs": [
    {
     "name": "stdout",
     "output_type": "stream",
     "text": [
      "Ram\n",
      "22\n"
     ]
    }
   ],
   "source": [
    "class Parent:\n",
    "    def __init__(self,name,age):\n",
    "        self.__name=name\n",
    "        self.__age=age\n",
    "\n",
    "    #getter\n",
    "    def get_name(self):\n",
    "        return self.__name\n",
    "\n",
    "    #setter\n",
    "    def set_name(self,name):\n",
    "        self.__name=name\n",
    "\n",
    "    #getter\n",
    "    def get_age(self):\n",
    "        return self.__age\n",
    "\n",
    "    #setter\n",
    "    def set_age(self,age):\n",
    "        self.__age=age\n",
    "\n",
    "obj=Parent(\"Ram\",22)\n",
    "print(obj.get_name())\n",
    "print(obj.get_age())"
   ]
  },
  {
   "cell_type": "code",
   "execution_count": 19,
   "id": "c18258fd-aa11-41cf-a506-add2faf7555f",
   "metadata": {},
   "outputs": [
    {
     "name": "stdout",
     "output_type": "stream",
     "text": [
      "None\n",
      "None\n",
      "shayam\n",
      "24\n"
     ]
    }
   ],
   "source": [
    "print(obj.set_name(\"shayam\"))\n",
    "print(obj.set_age(24))\n",
    "print(obj.get_name())\n",
    "print(obj.get_age())"
   ]
  },
  {
   "cell_type": "code",
   "execution_count": 24,
   "id": "c6d93625-25ed-47b2-b51b-b9e8e00608fc",
   "metadata": {},
   "outputs": [
    {
     "name": "stdout",
     "output_type": "stream",
     "text": [
      "Area: 78.5\n",
      "Area: 121\n"
     ]
    }
   ],
   "source": [
    "#Polymorphisam\n",
    "#supperclass\n",
    "#base classes\n",
    "#different classes can now share the same method(superclass)\n",
    "\n",
    "class Shape:\n",
    "    def area(self):\n",
    "        raise NotImplementedError('Subclass must implement this method')\n",
    "\n",
    "# Subclass------1\n",
    "class Circle(Shape):  # Corrected 'shape' to 'Shape'\n",
    "    def __init__(self, radius):\n",
    "        self.radius = radius\n",
    "\n",
    "    def area(self):\n",
    "        return 3.14 * (self.radius ** 2)  \n",
    "\n",
    "# Subclass------2\n",
    "class Square(Shape):  # Inheriting from Shape\n",
    "    def __init__(self, length):\n",
    "        self.length = length\n",
    "\n",
    "    def area(self):\n",
    "        return self.length ** 2  # Area of square (length^2)\n",
    "\n",
    "def print_area(shape):\n",
    "    print('Area:', shape.area())  \n",
    "    \n",
    "# Creating instances of Circle and Square\n",
    "circle = Circle(5)\n",
    "square = Square(11)\n",
    "\n",
    "# Printing areas\n",
    "print_area(circle)\n",
    "print_area(square)\n",
    "\n",
    "\n"
   ]
  },
  {
   "cell_type": "code",
   "execution_count": 1,
   "id": "110998f4-8f8f-4a7f-bd48-6b0ab362eb7b",
   "metadata": {},
   "outputs": [
    {
     "name": "stdout",
     "output_type": "stream",
     "text": [
      "Area: 28\n",
      "Area: 25.0\n"
     ]
    }
   ],
   "source": [
    "# Base class\n",
    "class Shape:\n",
    "    def area(self):\n",
    "        raise NotImplementedError('Subclass must implement this method')\n",
    "\n",
    "# Subclass------1: Rectangle\n",
    "class Rectangle(Shape):\n",
    "    def __init__(self, width, height):\n",
    "        self.width = width\n",
    "        self.height = height\n",
    "\n",
    "    def area(self):\n",
    "        return self.width * self.height  # Area of rectangle (width * height)\n",
    "\n",
    "# Subclass------2: Triangle\n",
    "class Triangle(Shape):\n",
    "    def __init__(self, base, height):\n",
    "        self.base = base\n",
    "        self.height = height\n",
    "\n",
    "    def area(self):\n",
    "        return 0.5 * self.base * self.height  # Area of triangle (0.5 * base * height)\n",
    "\n",
    "def print_area(shape):\n",
    "    print('Area:', shape.area())\n",
    "\n",
    "# Creating instances of Rectangle and Triangle\n",
    "rectangle = Rectangle(4, 7)\n",
    "triangle = Triangle(5, 10)\n",
    "\n",
    "# Printing areas\n",
    "print_area(rectangle)\n",
    "print_area(triangle)\n"
   ]
  },
  {
   "cell_type": "code",
   "execution_count": null,
   "id": "c6219855-2c09-44dd-969f-d9453ef60b88",
   "metadata": {},
   "outputs": [],
   "source": []
  }
 ],
 "metadata": {
  "kernelspec": {
   "display_name": "Python 3 (ipykernel)",
   "language": "python",
   "name": "python3"
  },
  "language_info": {
   "codemirror_mode": {
    "name": "ipython",
    "version": 3
   },
   "file_extension": ".py",
   "mimetype": "text/x-python",
   "name": "python",
   "nbconvert_exporter": "python",
   "pygments_lexer": "ipython3",
   "version": "3.10.11"
  }
 },
 "nbformat": 4,
 "nbformat_minor": 5
}
